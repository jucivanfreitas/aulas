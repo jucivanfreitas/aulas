{
 "cells": [
  {
   "cell_type": "markdown",
   "metadata": {},
   "source": [
    "Acesso GOMR"
   ]
  },
  {
   "cell_type": "code",
   "execution_count": 1,
   "metadata": {},
   "outputs": [],
   "source": [
    "from selenium import webdriver\n",
    "from time import sleep\n",
    "from gomracess import usergomr\n",
    "from gomracess import passgomr\n",
    "\n",
    "from selenium.webdriver.chrome.options import Options\n",
    "\n",
    "options=Options()\n",
    "options.add_argument('window-size=400,800')\n",
    "\n",
    "navegador = webdriver.Chrome(options=options)\n",
    "\n",
    "navegador.get('http://10.180.18.99/gomr/index.php')\n",
    "\n",
    "sleep(3)\n",
    "\n",
    "#By selector:\n",
    "selector_login= 'body > center > table > tbody > tr:nth-child(2) > td > p > input'\n",
    "\n",
    "selector_pass='body > center > table > tbody > tr:nth-child(3) > td > p > input[type=password]'\n",
    "\n",
    "selector_submit='body > center > table > tbody > tr:nth-child(4) > td > p > button'\n",
    "\n",
    "\n",
    "elemenlongin = navegador.find_element_by_css_selector(selector_login)\n",
    "\n",
    "\n",
    "elemenlongin.send_keys(usergomr)\n",
    "sleep(3)\n",
    "elementpass = navegador.find_element_by_css_selector(selector_pass)\n",
    "\n",
    "elementpass.send_keys(passgomr)\n",
    "\n",
    "elementbutton=navegador.find_element_by_css_selector(selector_submit)\n",
    "elementbutton.click()\n",
    "\n",
    "sleep(3)\n",
    "#seleciona pagina \n",
    "\n",
    "navegador.get('http://10.180.18.99/gomr/query_stations.php')\n",
    "sleep(5)\n",
    "\n",
    "selector_submit='body > form > table > tbody > tr:nth-child(5) > td:nth-child(1) > input[type=submit]'\n",
    "\n",
    "elementbutton=navegador.find_element_by_css_selector(selector_submit)\n",
    "elementbutton.click()\n"
   ]
  },
  {
   "cell_type": "markdown",
   "metadata": {},
   "source": [
    "    LER E SALVAR BASE DE OWNERS."
   ]
  },
  {
   "cell_type": "code",
   "execution_count": 2,
   "metadata": {},
   "outputs": [],
   "source": [
    "from datetime import date\n",
    "from posixpath import splitext\n",
    "from pydoc import html\n",
    "import pandas as pd\n",
    "from bs4 import BeautifulSoup\n",
    "\n",
    "\n",
    "selector_tabela ='/html/body/table'\n",
    "tabela=navegador.find_element_by_xpath( selector_tabela)\n",
    "\n",
    "htmlcontent=tabela.get_attribute(\"outerHTML\")\n",
    "\n",
    "soup=BeautifulSoup(htmlcontent,\"html.parser\")\n",
    "sleep(10)\n",
    "\n",
    "tabela2=soup.find(name=\"table\")\n",
    "\n",
    "df=pd.read_html(str(tabela2))[0]\n",
    "\n",
    "#nome =data\n",
    "nomedata=date.today()\n",
    "nomedata=str(nomedata)\n",
    "\n",
    "nomedata=nomedata.split('-')\n",
    "colunadata=nomedata[0]+nomedata[1]\n",
    "\n",
    "nomedata=colunadata+'-Owner GOMR.csv'\n",
    "\n",
    "\n",
    "df['Ano_Mes']=colunadata\n",
    "\n",
    "\n",
    "\n"
   ]
  },
  {
   "cell_type": "code",
   "execution_count": 3,
   "metadata": {},
   "outputs": [],
   "source": [
    "\n",
    "\n",
    "\n",
    "#df.drop([\"ID SAP\",\"CEP\",\"Lat\",\"Long\",\"Obs\",\"Téc. Engemol\",\"Tipo Infra\",\"SLA Infra\"], axis=1, inplace=True)\n",
    "\n",
    "\n"
   ]
  },
  {
   "cell_type": "code",
   "execution_count": 3,
   "metadata": {},
   "outputs": [
    {
     "name": "stderr",
     "output_type": "stream",
     "text": [
      "C:\\Users\\souva\\AppData\\Local\\Temp\\ipykernel_18640\\2167859276.py:40: SettingWithCopyWarning: \n",
      "A value is trying to be set on a copy of a slice from a DataFrame\n",
      "\n",
      "See the caveats in the documentation: https://pandas.pydata.org/pandas-docs/stable/user_guide/indexing.html#returning-a-view-versus-a-copy\n",
      "  list_tecnico.drop_duplicates(subset =\"Técnico\",keep = FIRST, inplace = True)\n"
     ]
    }
   ],
   "source": [
    "from importlib.resources import path\n",
    "from tkinter import FIRST\n",
    "\n",
    "\n",
    "nomeclaro=df[['Nome Claro','Estado','Municipio','Endereço','Téc. Claro','Matrícula','Dono','Ano_Mes']] ##seleciona colunas para data frame\n",
    "nomeclaro = nomeclaro.rename(columns={'Nome Claro': 'Site'})                                            #Renomenado coluna  \n",
    "nomeclaro['TipoNome']='Claro'                                                                           #identifica tipo de elemento\n",
    "nomeclaro = nomeclaro[nomeclaro['Site'].notna()]                                                        #deleta nulos da coluna nome do site\n",
    "\n",
    "\n",
    "nomecdma=df[['Nome CDMA','Estado','Municipio','Endereço','Téc. Claro','Matrícula','Dono','Ano_Mes']]\n",
    "nomecdma = nomecdma.rename(columns={'Nome CDMA': 'Site'})\n",
    "nomecdma['TipoNome']='CDMA'\n",
    "nomecdma = nomecdma[nomecdma['Site'].notna()]\n",
    "\n",
    "\n",
    "nomeebt=df[['Nome Embratel','Estado','Municipio','Endereço','Téc. Claro','Matrícula','Dono','Ano_Mes']]\n",
    "nomeebt = nomeebt.rename(columns={'Nome Embratel': 'Site'})\n",
    "nomeebt['TipoNome']='CDMA'\n",
    "nomeebt = nomeebt[nomeebt['Site'].notna()]\n",
    "\n",
    "nomenxt=df[['Nome Nextel','Estado','Municipio','Endereço','Téc. Claro','Matrícula','Dono','Ano_Mes']]\n",
    "nomenxt = nomenxt.rename(columns={'Nome Nextel': 'Site'})\n",
    "nomenxt['TipoNome']='CDMA'\n",
    "nomenxt = nomenxt[nomenxt['Site'].notna()]\n",
    "\n",
    "\n",
    "frames = pd.concat([nomeebt, nomenxt,nomecdma,nomeclaro], ignore_index=True)                                #cancatenando bases\n",
    "\n",
    "frames=frames[['Site','TipoNome','Estado','Municipio','Endereço','Téc. Claro','Matrícula','Dono','Ano_Mes']] ##seleciona colunas para data frame\n",
    "frames[\"id_anomes_site\"] = frames[\"Ano_Mes\"]  + frames[\"Site\"]\n",
    "frames = frames.rename(columns={'Téc. Claro': 'Técnico'}) \n",
    "frames.drop_duplicates(subset =\"Site\",keep = FIRST, inplace = True)\n",
    "\n",
    "#save tabela para csv.\n",
    "frames.to_csv('./bases gomr/'+nomedata,encoding=\"utf8\",sep=';',index=False)\n",
    "\n",
    "## Lista de técnicos\n",
    "list_tecnico=frames[['Técnico','Matrícula','Ano_Mes']]\n",
    "list_tecnico.drop_duplicates(subset =\"Técnico\",keep = FIRST, inplace = True)\n",
    "list_tecnico = list_tecnico[list_tecnico['Técnico'].notna()]\n",
    "list_tecnico['mestecnico']=list_tecnico['Ano_Mes']+list_tecnico['Técnico']\n",
    "list_tecnico.to_csv('./bases gomr/''owner-'+nomedata,encoding=\"utf8\",sep=';',index=False)\n",
    "\n",
    "\n"
   ]
  },
  {
   "cell_type": "code",
   "execution_count": 14,
   "metadata": {},
   "outputs": [],
   "source": [
    "hostomr='10.180.18.101'\n",
    "userbd= 'jucivan'\n",
    "passw='$rtç-=GGtop_45rS'\n",
    "from venv import create\n",
    "import mysql.connector\n",
    "\n",
    "conect=mysql.connector.connect(\n",
    "    host=hostomr,\n",
    "    user=userbd,\n",
    "    password=passw,\n",
    "    database='indicadores'\n",
    ")\n",
    "cursor=conect.cursor()\n",
    "\n",
    "\n",
    "\n"
   ]
  },
  {
   "cell_type": "code",
   "execution_count": 15,
   "metadata": {},
   "outputs": [
    {
     "data": {
      "text/plain": [
       "True"
      ]
     },
     "execution_count": 15,
     "metadata": {},
     "output_type": "execute_result"
    }
   ],
   "source": [
    "mestecnico='202201teste1'\n",
    "Técnico='teste 1 gravar'\n",
    "Matrícula='32006008'\n",
    "Ano_Mes='202201'\n",
    "\n",
    "comandosql=f'INSERT IGNORE INTO tecnicos (mestecnico, Técnico, Matrícula, Ano_Mes)  VALUES (\"{mestecnico}\",\"{mestecnico}\",\"{Matrícula}\",\"{Ano_Mes}\");'\n",
    "cursor.execute(comandosql)\n",
    "conect.commit()\n",
    "\n",
    "\n",
    "cursor.close()"
   ]
  },
  {
   "cell_type": "markdown",
   "metadata": {},
   "source": []
  },
  {
   "cell_type": "markdown",
   "metadata": {},
   "source": [
    "cx"
   ]
  },
  {
   "cell_type": "markdown",
   "metadata": {},
   "source": []
  },
  {
   "cell_type": "code",
   "execution_count": 5,
   "metadata": {},
   "outputs": [],
   "source": [
    "\n",
    "\n",
    "#Fecha navegador\n",
    "navegador.quit()"
   ]
  }
 ],
 "metadata": {
  "kernelspec": {
   "display_name": "Python 3.9.13 ('alura_pandas')",
   "language": "python",
   "name": "python3"
  },
  "language_info": {
   "codemirror_mode": {
    "name": "ipython",
    "version": 3
   },
   "file_extension": ".py",
   "mimetype": "text/x-python",
   "name": "python",
   "nbconvert_exporter": "python",
   "pygments_lexer": "ipython3",
   "version": "3.9.13"
  },
  "orig_nbformat": 4,
  "vscode": {
   "interpreter": {
    "hash": "93d90401160a4d554fb83dc2d49825f760bc4edd4ac57bc342b12265079e0aef"
   }
  }
 },
 "nbformat": 4,
 "nbformat_minor": 2
}
