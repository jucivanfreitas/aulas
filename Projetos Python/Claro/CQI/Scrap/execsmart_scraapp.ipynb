{
 "cells": [
  {
   "cell_type": "markdown",
   "metadata": {},
   "source": [
    "Acesso executive smart"
   ]
  },
  {
   "cell_type": "code",
   "execution_count": 82,
   "metadata": {},
   "outputs": [
    {
     "name": "stdout",
     "output_type": "stream",
     "text": [
      "<selenium.webdriver.remote.webelement.WebElement (session=\"1322cbbff70c72e97af1ca4d42edbbf9\", element=\"f4c85dd4-b027-4b3d-ab8e-b5e47803a7cb\")>\n"
     ]
    },
    {
     "data": {
      "text/plain": [
       "'315904741382378'"
      ]
     },
     "execution_count": 82,
     "metadata": {},
     "output_type": "execute_result"
    }
   ],
   "source": [
    "from sre_compile import isstring\n",
    "import string\n",
    "from selenium import webdriver\n",
    "from time import sleep\n",
    "from gomracess import usergomr\n",
    "from gomracess import passgomr\n",
    "\n",
    "from selenium.webdriver.chrome.options import Options\n",
    "\n",
    "options=Options()\n",
    "options.add_argument('window-size=500,1000')\n",
    "options.add_argument('SaveFileDialog=True')\n",
    "\n",
    "navegador = webdriver.Chrome(options=options)\n",
    "\n",
    "\n",
    "<div role=\"none\"><video id=\"vjs_video_3_AzureHtml5JS_api_819\" class=\"vjs-tech\" oncontextmenu=\"return false;\" tabindex=\"-1\" preload=\"metadata\" playsinline=\"\" style=\"cursor: pointer;\" src=\"blob:https://powerbi.microsoft.com/626f2ec3-27ae-4c3f-bd93-09f1fa7cb884\"></video></div>\n",
    "\n",
    "navegador.get('http://10.119.231.252/apex/f?p=101:LOGIN::NOVOACESSOURL')\n",
    "\n",
    "sleep(3)\n",
    "\n",
    "#By selector:\n",
    "\n",
    "selector_page='#R2749904351879121 > tbody > tr > td > a'\n",
    "\n",
    "acess=navegador.find_element_by_css_selector(selector_page)\n",
    "acess.click()\n",
    "\n",
    "selector_login= '#P101_USERNAME'\n",
    "\n",
    "selector_pass='#P101_PASSWORD'\n",
    "\n",
    "selector_xpath='#apex_layout_1243527438065332 > tbody > tr:nth-child(3) > td:nth-child(3) > input'\n",
    "\n",
    "#//*[@id=\"apex_layout_1243527438065332\"]/tbody/tr[3]/td[3]/input\n",
    "\n",
    "\n",
    "elemenlongin = navegador.find_element_by_css_selector(selector_login)\n",
    "print(elemenlongin)\n",
    "\n",
    "elemenlongin.send_keys(usergomr)\n",
    "sleep(3)\n",
    "elementpass = navegador.find_element_by_css_selector(selector_pass)\n",
    "\n",
    "elementpass.send_keys('Souvan@20')\n",
    "sleep(1)\n",
    "\n",
    "elementpass.submit()\n",
    "\n",
    "sleep(3)\n",
    "#seleciona pagina \n",
    "\n",
    "seleportalcqi ='#R4467816526807729 > tbody > tr > td > table > tbody > tr > td:nth-child(2) > ul > li:nth-child(1) > a > b'\n",
    "elemenlongin = navegador.find_element_by_css_selector(seleportalcqi)\n",
    "elemenlongin.click()\n",
    "sleep(3)\n",
    "\n",
    "from urllib.parse import urlparse,parse_qs\n",
    "import pandas as pd\n",
    "\n",
    "#buscar id_ssessão\n",
    "novurl=urlparse(navegador.current_url)\n",
    "\n",
    "querurl=parse_qs(novurl.query)\n",
    "querurl=pd.DataFrame(querurl)\n",
    "\n",
    "\n",
    "querurl=str(querurl)\n",
    "querurl=querurl.split(':')\n",
    "id_session=querurl[2]\n",
    "\n",
    "\n",
    "id_session\n",
    "\n",
    "\n",
    "\n"
   ]
  },
  {
   "cell_type": "code",
   "execution_count": 76,
   "metadata": {},
   "outputs": [],
   "source": [
    "from unittest.mock import patch\n",
    "\n",
    "prefs=\"C://Users/souva/OneDrive - Claro SA/Analise de dados/CQI/Bases novas/CQI Diario/2022/10\"\n",
    "\n",
    "#options2=webdriver.ChromeOptions(patch(prefs))\n",
    "\n",
    "\n",
    "options2.add_experimental_option(\"prefs\",prefs)\n",
    "\n",
    "##driver=webdriver.Chrome(executable_path='./chromedriver',chrome_options=options2)"
   ]
  },
  {
   "cell_type": "markdown",
   "metadata": {},
   "source": [
    "    LER E SALVAR BASE DE OWNERS."
   ]
  },
  {
   "cell_type": "markdown",
   "metadata": {},
   "source": [
    "Montando query loop"
   ]
  },
  {
   "cell_type": "code",
   "execution_count": 83,
   "metadata": {},
   "outputs": [],
   "source": [
    "#modelo de query PORTAL CQI\n",
    "#5G#  http://10.119.231.252/apex/f?p=101:331:111160003249236::NO::P331_AGREGACAO,P331_WEEK,P331_REGIAO,P331_VISAO,P331_FILTRO,P331_TEC,P331_VISAO_FILTRO,P331_CQI_FILTRO,P331_IBGE,P331_ESTRATEGICOS:DIARIO,2022-10-01,CLARO%20NE,REGIONAL,CLARO%20NE,5G,CELULA,CQI_5G_ALL,0,\n",
    "#     http://10.119.231.252/apex/f?p=101:331:303808999775010::NO::P331_AGREGACAO,P331_WEEK,P331_REGIAO,P331_VISAO,P331_FILTRO,P331_TEC,P331_VISAO_FILTRO,P331_CQI_FILTRO,P331_IBGE,P331_ESTRATEGICOS:DIARIO,2022-10-01,CLARO%20NE,REGIONAL,CLARO%20NE,5G,CELULA,CQI_5G_ALL,0,'\n",
    "#4G#  http://10.119.231.252/apex/f?p=101:331:111160003249236::NO::P331_AGREGACAO,P331_WEEK,P331_REGIAO,P331_VISAO,P331_FILTRO,P331_TEC,P331_VISAO_FILTRO,P331_CQI_FILTRO,P331_IBGE,P331_ESTRATEGICOS:DIARIO,2022-10-01,CLARO%20NE,REGIONAL,CLARO%20NE,4G,CELULA,CQI_4G_ALL,0,\n",
    "#3G#  http://10.119.231.252/apex/f?p=101:331:111160003249236::NO::P331_AGREGACAO,P331_WEEK,P331_REGIAO,P331_VISAO,P331_FILTRO,P331_TEC,P331_VISAO_FILTRO,P331_CQI_FILTRO,P331_IBGE,P331_ESTRATEGICOS:DIARIO,2022-10-01,CLARO%20NE,REGIONAL,CLARO%20NE,3G,CELULA,CQI_3G_ALL,0,\n",
    "#2G#  http://10.119.231.252/apex/f?p=101:331:111160003249236::NO::P331_AGREGACAO,P331_WEEK,P331_REGIAO,P331_VISAO,P331_FILTRO,P331_TEC,P331_VISAO_FILTRO,P331_CQI_FILTRO,P331_IBGE,P331_ESTRATEGICOS:DIARIO,2022-10-01,CLARO%20NE,REGIONAL,CLARO%20NE,2G,CELULA,CQI_2G_ALL,0,\n",
    "## Mensal \n",
    "#2G#  http://10.119.231.252/apex/f?p=101:331:111160003249236::NO::P331_AGREGACAO,P331_WEEK,P331_REGIAO,P331_VISAO,P331_FILTRO,P331_TEC,P331_VISAO_FILTRO,P331_CQI_FILTRO,P331_IBGE,P331_ESTRATEGICOS:MENSAL,2022-09-30,CLARO%20NE,REGIONAL,CLARO%20NE,2G,CELULA,CQI_2G_ALL,0,\n",
    "\n",
    "\n",
    "#montando query\n",
    "\n",
    "sleep(15)\n",
    "Granularidade='DIARIO' # DIARIO, MENSAL,\n",
    "\n",
    "regiao='CLARO%20NE'\n",
    "visao='REGIONAL'\n",
    "geral=regiao\n",
    "Tec='5G'\n",
    "\n",
    "#laço dia\n",
    "data='2022-10-01'       #aaaa-mm-dd\n",
    "\n",
    "link= f'http://10.119.231.252/apex/f?p=101:331:{id_session}::NO::P331_AGREGACAO,P331_WEEK,P331_REGIAO,P331_VISAO,P331_FILTRO,P331_TEC,P331_VISAO_FILTRO,P331_CQI_FILTRO,P331_IBGE,P331_ESTRATEGICOS:{Granularidade},{data},{regiao},{visao},{geral},{Tec},CELULA,CQI_{Tec}_ALL,0,'\n",
    "\n",
    "navegador.get(link)\n",
    "\n",
    "sleep(5)\n",
    "export = navegador.find_element_by_class_name('t13CSV')\n",
    "export.click()\n",
    "\n",
    "#fim laço dia"
   ]
  },
  {
   "cell_type": "code",
   "execution_count": 62,
   "metadata": {},
   "outputs": [],
   "source": []
  },
  {
   "cell_type": "code",
   "execution_count": 16,
   "metadata": {},
   "outputs": [
    {
     "ename": "NoSuchElementException",
     "evalue": "Message: no such element: Unable to locate element: {\"method\":\"css selector\",\"selector\":\"[id=\"P330_TEC\"]\"}\n  (Session info: chrome=106.0.5249.119)\n",
     "output_type": "error",
     "traceback": [
      "\u001b[1;31m---------------------------------------------------------------------------\u001b[0m",
      "\u001b[1;31mNoSuchElementException\u001b[0m                    Traceback (most recent call last)",
      "\u001b[1;32mc:\\Users\\souva\\Downloads\\Python_Data_Science\\Projetos Python\\Claro\\CQI\\Scrap\\execsmart_scraapp.ipynb Célula: 7\u001b[0m in \u001b[0;36m<cell line: 35>\u001b[1;34m()\u001b[0m\n\u001b[0;32m     <a href='vscode-notebook-cell:/c%3A/Users/souva/Downloads/Python_Data_Science/Projetos%20Python/Claro/CQI/Scrap/execsmart_scraapp.ipynb#W3sZmlsZQ%3D%3D?line=28'>29</a>\u001b[0m Tec\u001b[39m=\u001b[39m[\u001b[39m'\u001b[39m\u001b[39m5G\u001b[39m\u001b[39m'\u001b[39m,\u001b[39m'\u001b[39m\u001b[39m4G\u001b[39m\u001b[39m'\u001b[39m, \u001b[39m'\u001b[39m\u001b[39m3G\u001b[39m\u001b[39m'\u001b[39m, \u001b[39m'\u001b[39m\u001b[39m2G\u001b[39m\u001b[39m'\u001b[39m]\n\u001b[0;32m     <a href='vscode-notebook-cell:/c%3A/Users/souva/Downloads/Python_Data_Science/Projetos%20Python/Claro/CQI/Scrap/execsmart_scraapp.ipynb#W3sZmlsZQ%3D%3D?line=31'>32</a>\u001b[0m \u001b[39m#laço TEC\u001b[39;00m\n\u001b[1;32m---> <a href='vscode-notebook-cell:/c%3A/Users/souva/Downloads/Python_Data_Science/Projetos%20Python/Claro/CQI/Scrap/execsmart_scraapp.ipynb#W3sZmlsZQ%3D%3D?line=34'>35</a>\u001b[0m elemenlongin \u001b[39m=\u001b[39m navegador\u001b[39m.\u001b[39;49mfind_element_by_id(selecttec)\n\u001b[0;32m     <a href='vscode-notebook-cell:/c%3A/Users/souva/Downloads/Python_Data_Science/Projetos%20Python/Claro/CQI/Scrap/execsmart_scraapp.ipynb#W3sZmlsZQ%3D%3D?line=35'>36</a>\u001b[0m elemenlongin\u001b[39m.\u001b[39msend_keys(Tec[\u001b[39m0\u001b[39m])  \u001b[39m# 5G 4G 3G 2G\u001b[39;00m\n\u001b[0;32m     <a href='vscode-notebook-cell:/c%3A/Users/souva/Downloads/Python_Data_Science/Projetos%20Python/Claro/CQI/Scrap/execsmart_scraapp.ipynb#W3sZmlsZQ%3D%3D?line=38'>39</a>\u001b[0m elemenlongin \u001b[39m=\u001b[39m navegador\u001b[39m.\u001b[39mfind_element_by_id(selectagrregation)\n",
      "File \u001b[1;32mc:\\Users\\souva\\.conda\\envs\\alura_pandas\\lib\\site-packages\\selenium\\webdriver\\remote\\webdriver.py:360\u001b[0m, in \u001b[0;36mWebDriver.find_element_by_id\u001b[1;34m(self, id_)\u001b[0m\n\u001b[0;32m    345\u001b[0m \u001b[39mdef\u001b[39;00m \u001b[39mfind_element_by_id\u001b[39m(\u001b[39mself\u001b[39m, id_):\n\u001b[0;32m    346\u001b[0m     \u001b[39m\"\"\"Finds an element by id.\u001b[39;00m\n\u001b[0;32m    347\u001b[0m \n\u001b[0;32m    348\u001b[0m \u001b[39m    :Args:\u001b[39;00m\n\u001b[1;32m   (...)\u001b[0m\n\u001b[0;32m    358\u001b[0m \u001b[39m        element = driver.find_element_by_id('foo')\u001b[39;00m\n\u001b[0;32m    359\u001b[0m \u001b[39m    \"\"\"\u001b[39;00m\n\u001b[1;32m--> 360\u001b[0m     \u001b[39mreturn\u001b[39;00m \u001b[39mself\u001b[39;49m\u001b[39m.\u001b[39;49mfind_element(by\u001b[39m=\u001b[39;49mBy\u001b[39m.\u001b[39;49mID, value\u001b[39m=\u001b[39;49mid_)\n",
      "File \u001b[1;32mc:\\Users\\souva\\.conda\\envs\\alura_pandas\\lib\\site-packages\\selenium\\webdriver\\remote\\webdriver.py:976\u001b[0m, in \u001b[0;36mWebDriver.find_element\u001b[1;34m(self, by, value)\u001b[0m\n\u001b[0;32m    974\u001b[0m         by \u001b[39m=\u001b[39m By\u001b[39m.\u001b[39mCSS_SELECTOR\n\u001b[0;32m    975\u001b[0m         value \u001b[39m=\u001b[39m \u001b[39m'\u001b[39m\u001b[39m[name=\u001b[39m\u001b[39m\"\u001b[39m\u001b[39m%s\u001b[39;00m\u001b[39m\"\u001b[39m\u001b[39m]\u001b[39m\u001b[39m'\u001b[39m \u001b[39m%\u001b[39m value\n\u001b[1;32m--> 976\u001b[0m \u001b[39mreturn\u001b[39;00m \u001b[39mself\u001b[39;49m\u001b[39m.\u001b[39;49mexecute(Command\u001b[39m.\u001b[39;49mFIND_ELEMENT, {\n\u001b[0;32m    977\u001b[0m     \u001b[39m'\u001b[39;49m\u001b[39musing\u001b[39;49m\u001b[39m'\u001b[39;49m: by,\n\u001b[0;32m    978\u001b[0m     \u001b[39m'\u001b[39;49m\u001b[39mvalue\u001b[39;49m\u001b[39m'\u001b[39;49m: value})[\u001b[39m'\u001b[39m\u001b[39mvalue\u001b[39m\u001b[39m'\u001b[39m]\n",
      "File \u001b[1;32mc:\\Users\\souva\\.conda\\envs\\alura_pandas\\lib\\site-packages\\selenium\\webdriver\\remote\\webdriver.py:321\u001b[0m, in \u001b[0;36mWebDriver.execute\u001b[1;34m(self, driver_command, params)\u001b[0m\n\u001b[0;32m    319\u001b[0m response \u001b[39m=\u001b[39m \u001b[39mself\u001b[39m\u001b[39m.\u001b[39mcommand_executor\u001b[39m.\u001b[39mexecute(driver_command, params)\n\u001b[0;32m    320\u001b[0m \u001b[39mif\u001b[39;00m response:\n\u001b[1;32m--> 321\u001b[0m     \u001b[39mself\u001b[39;49m\u001b[39m.\u001b[39;49merror_handler\u001b[39m.\u001b[39;49mcheck_response(response)\n\u001b[0;32m    322\u001b[0m     response[\u001b[39m'\u001b[39m\u001b[39mvalue\u001b[39m\u001b[39m'\u001b[39m] \u001b[39m=\u001b[39m \u001b[39mself\u001b[39m\u001b[39m.\u001b[39m_unwrap_value(\n\u001b[0;32m    323\u001b[0m         response\u001b[39m.\u001b[39mget(\u001b[39m'\u001b[39m\u001b[39mvalue\u001b[39m\u001b[39m'\u001b[39m, \u001b[39mNone\u001b[39;00m))\n\u001b[0;32m    324\u001b[0m     \u001b[39mreturn\u001b[39;00m response\n",
      "File \u001b[1;32mc:\\Users\\souva\\.conda\\envs\\alura_pandas\\lib\\site-packages\\selenium\\webdriver\\remote\\errorhandler.py:242\u001b[0m, in \u001b[0;36mErrorHandler.check_response\u001b[1;34m(self, response)\u001b[0m\n\u001b[0;32m    240\u001b[0m         alert_text \u001b[39m=\u001b[39m value[\u001b[39m'\u001b[39m\u001b[39malert\u001b[39m\u001b[39m'\u001b[39m]\u001b[39m.\u001b[39mget(\u001b[39m'\u001b[39m\u001b[39mtext\u001b[39m\u001b[39m'\u001b[39m)\n\u001b[0;32m    241\u001b[0m     \u001b[39mraise\u001b[39;00m exception_class(message, screen, stacktrace, alert_text)\n\u001b[1;32m--> 242\u001b[0m \u001b[39mraise\u001b[39;00m exception_class(message, screen, stacktrace)\n",
      "\u001b[1;31mNoSuchElementException\u001b[0m: Message: no such element: Unable to locate element: {\"method\":\"css selector\",\"selector\":\"[id=\"P330_TEC\"]\"}\n  (Session info: chrome=106.0.5249.119)\n"
     ]
    }
   ],
   "source": [
    "#modelo de query PORTAL CQI\n",
    "\n",
    "\n",
    "##5G#  http://10.119.231.252/apex/f?p=101:331:111160003249236::NO::P331_AGREGACAO,P331_WEEK,P331_REGIAO,P331_VISAO,P331_FILTRO,P331_TEC,P331_VISAO_FILTRO,P331_CQI_FILTRO,P331_IBGE,P331_ESTRATEGICOS:DIARIO,2022-10-01,CLARO%20NE,REGIONAL,CLARO%20NE,5G,CELULA,CQI_5G_ALL,0,\n",
    "#      http://10.119.231.252/apex/f?p=101:331:102903039268743::NO::P331_AGREGACAO,P331_WEEK,P331_REGIAO,P331_VISAO,P331_FILTRO,P331_TEC,P331_VISAO_FILTRO,P331_CQI_FILTRO,P331_IBGE,P331_ESTRATEGICOS:DIARIO,2022-10-01,CLARO%20NE,REGIONAL,CLARO%20NE,5G,CELULA,CQI_5G_ALL,0,\n",
    "#4G#  http://10.119.231.252/apex/f?p=101:331:111160003249236::NO::P331_AGREGACAO,P331_WEEK,P331_REGIAO,P331_VISAO,P331_FILTRO,P331_TEC,P331_VISAO_FILTRO,P331_CQI_FILTRO,P331_IBGE,P331_ESTRATEGICOS:DIARIO,2022-10-01,CLARO%20NE,REGIONAL,CLARO%20NE,4G,CELULA,CQI_4G_ALL,0,\n",
    "\n",
    "#3G#  http://10.119.231.252/apex/f?p=101:331:111160003249236::NO::P331_AGREGACAO,P331_WEEK,P331_REGIAO,P331_VISAO,P331_FILTRO,P331_TEC,P331_VISAO_FILTRO,P331_CQI_FILTRO,P331_IBGE,P331_ESTRATEGICOS:DIARIO,2022-10-01,CLARO%20NE,REGIONAL,CLARO%20NE,3G,CELULA,CQI_3G_ALL,0,\n",
    "\n",
    "#2G#  http://10.119.231.252/apex/f?p=101:331:111160003249236::NO::P331_AGREGACAO,P331_WEEK,P331_REGIAO,P331_VISAO,P331_FILTRO,P331_TEC,P331_VISAO_FILTRO,P331_CQI_FILTRO,P331_IBGE,P331_ESTRATEGICOS:DIARIO,2022-10-01,CLARO%20NE,REGIONAL,CLARO%20NE,2G,CELULA,CQI_2G_ALL,0,\n",
    "## Mensal \n",
    "#2G#  http://10.119.231.252/apex/f?p=101:331:111160003249236::NO::P331_AGREGACAO,P331_WEEK,P331_REGIAO,P331_VISAO,P331_FILTRO,P331_TEC,P331_VISAO_FILTRO,P331_CQI_FILTRO,P331_IBGE,P331_ESTRATEGICOS:MENSAL,2022-09-30,CLARO%20NE,REGIONAL,CLARO%20NE,2G,CELULA,CQI_2G_ALL,0,\n",
    "\n",
    "\n",
    "selecttec='P330_TEC' #<select id=\"P330_TEC\" name=\"p_t01\" class=\"selectlist\" size=\"1\"><option value=\"\" selected=\"selected\">SELECIONE</option>\n",
    "\n",
    "selectagrregation='P330_AGREGACAO'#montando query\n",
    "endereço='http://10.119.231.252/apex/f?p=101:331:'\n",
    "\n",
    "id_session\n",
    "\n",
    "query='::NO::P331_AGREGACAO,P331_WEEK,P331_REGIAO,P331_VISAO,P331_FILTRO,P331_TEC,P331_VISAO_FILTRO,P331_CQI_FILTRO,P331_IBGE,P331_ESTRATEGICOS:'\n",
    "selectregiao='P330_REGIAO'\n",
    "selectvisao='P330_VISAO'\n",
    "\n",
    "Buttonselect='P330_WEEK'\n",
    "\n",
    "\n",
    "Tec=['5G','4G', '3G', '2G']\n",
    "\n",
    "\n",
    "#laço TEC\n",
    "\n",
    "\n",
    "elemenlongin = navegador.find_element_by_id(selecttec)\n",
    "elemenlongin.send_keys(Tec[0])  # 5G 4G 3G 2G\n",
    "\n",
    "\n",
    "elemenlongin = navegador.find_element_by_id(selectagrregation)\n",
    "elemenlongin.send_keys('DIARIO')  # MENSAL DIARIO\n",
    "\n",
    "elemenlongin = navegador.find_element_by_id(selectregiao) \n",
    "elemenlongin.send_keys('CLARO NE')\n",
    "\n",
    "elemenlongin = navegador.find_element_by_id(selectvisao)\n",
    "elemenlongin.send_keys('REGIONAL')\n",
    "\n",
    "#laço de datas:\n",
    "\n",
    "elemenlongin = navegador.find_element_by_id(Buttonselect)\n",
    "elemenlongin.send_keys('2022-10-01')\n",
    "\n",
    "elemenlongin.submit()\n",
    "\n",
    "regionalxpath='//*[@id=\"R156962422754178608\"]/tbody/tr[3]/td[1]/a'\n",
    "\n",
    "sleep(3)\n",
    "\n",
    "elemenlongin = navegador.find_element_by_xpath(regionalxpath)\n",
    "elemenlongin.click()\n",
    "\n",
    "\n",
    "\n",
    "\n",
    "\n",
    "\n"
   ]
  }
 ],
 "metadata": {
  "kernelspec": {
   "display_name": "Python 3.9.13 ('alura_pandas')",
   "language": "python",
   "name": "python3"
  },
  "language_info": {
   "codemirror_mode": {
    "name": "ipython",
    "version": 3
   },
   "file_extension": ".py",
   "mimetype": "text/x-python",
   "name": "python",
   "nbconvert_exporter": "python",
   "pygments_lexer": "ipython3",
   "version": "3.9.13"
  },
  "orig_nbformat": 4,
  "vscode": {
   "interpreter": {
    "hash": "93d90401160a4d554fb83dc2d49825f760bc4edd4ac57bc342b12265079e0aef"
   }
  }
 },
 "nbformat": 4,
 "nbformat_minor": 2
}
